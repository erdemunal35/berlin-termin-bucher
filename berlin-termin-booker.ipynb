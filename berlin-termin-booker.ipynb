{
 "cells": [
  {
   "cell_type": "code",
   "execution_count": 1,
   "id": "b5ccc4b6",
   "metadata": {},
   "outputs": [],
   "source": [
    "from operations import Operation\n",
    "from selenium import webdriver\n",
    "from selenium.webdriver.common.by import By\n",
    "from selenium.webdriver.chrome.options import Options\n",
    "import time\n",
    "\n",
    "import requests\n",
    "\n",
    "\n",
    "from selenium.webdriver.support.ui import Select\n",
    "from selenium.webdriver.common.action_chains import ActionChains"
   ]
  },
  {
   "cell_type": "code",
   "execution_count": 4,
   "id": "8c563fe4",
   "metadata": {},
   "outputs": [
    {
     "name": "stdout",
     "output_type": "stream",
     "text": [
      "https://otv.verwalt-berlin.de/ams/TerminBuchen/wizardng?dswid=9076&dsrid=945&sprachauswahl=en\n"
     ]
    }
   ],
   "source": [
    "# Chrome Driver\n",
    "from selenium import webdriver\n",
    "from selenium.webdriver.common.by import By\n",
    "from selenium.webdriver.support.ui import WebDriverWait\n",
    "from selenium.webdriver.support import expected_conditions as EC\n",
    "\n",
    "# Set up the Selenium webdriver to use Google Chrome\n",
    "\n",
    "cookie = {\n",
    "    'name': 'check',\n",
    "    'value': 'valid',\n",
    "    'domain': 'otv.verwalt-berlin.de',\n",
    "    'path': '/ams/TerminBuchen/wizardng'\n",
    "}\n",
    "\n",
    "driver = webdriver.Chrome()\n",
    "\n",
    "# Navigate to the website\n",
    "driver.get('https://otv.verwalt-berlin.de/ams/TerminBuchen?lang=en')\n",
    "driver.add_cookie(cookie)\n",
    "# Wait for the \"Book Appointment\" button to be visible\n",
    "book_appointment_button = WebDriverWait(driver, 6).until(EC.visibility_of_element_located((By.XPATH, \"//div[@class='link']/a[@href='/ams/TerminBuchen/wizardng?sprachauswahl=en']\")))\n",
    "\n",
    "# Click the \"Book Appointment\" button\n",
    "book_appointment_button.click()\n",
    "\n",
    "# Get the redirected URL with the token from the current URL\n",
    "redirected_url_with_token = driver.current_url\n",
    "\n",
    "time.sleep(6)\n",
    "driver.get(redirected_url_with_token)\n",
    "time.sleep(4)\n",
    "# Close the Selenium webdriver\n",
    "# driver.quit()\n",
    "\n",
    "# Print the redirected URL with the token\n",
    "print(redirected_url_with_token)"
   ]
  },
  {
   "cell_type": "code",
   "execution_count": 3,
   "id": "c1606238",
   "metadata": {},
   "outputs": [
    {
     "name": "stdout",
     "output_type": "stream",
     "text": [
      "https://otv.verwalt-berlin.de/ams/TerminBuchen/wizardng?dswid=1601&dsrid=116&sprachauswahl=en\n"
     ]
    }
   ],
   "source": [
    "from selenium.webdriver.chrome.options import Options\n",
    "from selenium import webdriver\n",
    "\n",
    "options = Options()\n",
    "options.add_argument(\"--disable-blink-features=AutomationControlled\")\n",
    "\n",
    "\n",
    "from selenium.webdriver.common.by import By\n",
    "from selenium.webdriver.support.ui import WebDriverWait\n",
    "from selenium.webdriver.support import expected_conditions as EC\n",
    "\n",
    "# Set up the Selenium webdriver to use Google Chrome\n",
    "# driver = webdriver.Chrome()\n",
    "driver = webdriver.Chrome(options=options)\n",
    "\n",
    "# Navigate to the website\n",
    "driver.get('https://otv.verwalt-berlin.de/ams/TerminBuchen?lang=en')\n",
    "driver.add_cookie(cookie)\n",
    "# Wait for the \"Book Appointment\" button to be visible\n",
    "book_appointment_button = WebDriverWait(driver, 6).until(EC.visibility_of_element_located((By.XPATH, \"//div[@class='link']/a[@href='/ams/TerminBuchen/wizardng?sprachauswahl=en']\")))\n",
    "\n",
    "# Click the \"Book Appointment\" button\n",
    "book_appointment_button.click()\n",
    "\n",
    "# Get the redirected URL with the token from the current URL\n",
    "redirected_url_with_token = driver.current_url\n",
    "\n",
    "time.sleep(6)\n",
    "driver.get(redirected_url_with_token)\n",
    "time.sleep(4)\n",
    "# Close the Selenium webdriver\n",
    "# driver.quit()\n",
    "\n",
    "# Print the redirected URL with the token\n",
    "print(redirected_url_with_token)"
   ]
  },
  {
   "cell_type": "code",
   "execution_count": null,
   "id": "78090bbd",
   "metadata": {},
   "outputs": [],
   "source": []
  },
  {
   "cell_type": "code",
   "execution_count": 132,
   "id": "2b14d289",
   "metadata": {},
   "outputs": [
    {
     "name": "stdout",
     "output_type": "stream",
     "text": [
      "https://otv.verwalt-berlin.de/ams/TerminBuchen/wizardng?dswid=5892&dsrid=810&sprachauswahl=en\n"
     ]
    }
   ],
   "source": [
    "from selenium import webdriver\n",
    "from selenium.webdriver.common.by import By\n",
    "from selenium.webdriver.support.ui import WebDriverWait\n",
    "from selenium.webdriver.support import expected_conditions as EC\n",
    "\n",
    "# Set up the Selenium webdriver to use Google Chrome\n",
    "driver = webdriver.Chrome()\n",
    "\n",
    "# Navigate to the website\n",
    "driver.get('https://otv.verwalt-berlin.de/ams/TerminBuchen?lang=en&termin=1&dienstleister=327437&anliegen[]=324659&herkunft=1')\n",
    "\n",
    "# Wait for the \"Book Appointment\" button to be visible\n",
    "book_appointment_button = WebDriverWait(driver, 10).until(EC.visibility_of_element_located((By.XPATH, \"//div[@class='link']/a[@href='/ams/TerminBuchen/wizardng?sprachauswahl=en']\")))\n",
    "\n",
    "# Click the \"Book Appointment\" button\n",
    "book_appointment_button.click()\n",
    "\n",
    "# Get the redirected URL with the token from the current URL\n",
    "redirected_url_with_token = driver.current_url\n",
    "\n",
    "# Close the Selenium webdriver\n",
    "driver.quit()\n",
    "\n",
    "# Print the redirected URL with the token\n",
    "print(redirected_url_with_token)"
   ]
  },
  {
   "cell_type": "code",
   "execution_count": 135,
   "id": "4668a70e",
   "metadata": {},
   "outputs": [
    {
     "ename": "TimeoutException",
     "evalue": "Message: \nStacktrace:\n0   chromedriver                        0x00000001052ee428 chromedriver + 4899880\n1   chromedriver                        0x000000010526ba23 chromedriver + 4364835\n2   chromedriver                        0x0000000104eb5bf6 chromedriver + 474102\n3   chromedriver                        0x0000000104ef94f0 chromedriver + 750832\n4   chromedriver                        0x0000000104ef9751 chromedriver + 751441\n5   chromedriver                        0x0000000104f3d834 chromedriver + 1030196\n6   chromedriver                        0x0000000104f1f58d chromedriver + 906637\n7   chromedriver                        0x0000000104f3ab5b chromedriver + 1018715\n8   chromedriver                        0x0000000104f1f333 chromedriver + 906035\n9   chromedriver                        0x0000000104ee955f chromedriver + 685407\n10  chromedriver                        0x0000000104eeaa7e chromedriver + 690814\n11  chromedriver                        0x00000001052bb79e chromedriver + 4691870\n12  chromedriver                        0x00000001052c0961 chromedriver + 4712801\n13  chromedriver                        0x00000001052c72ff chromedriver + 4739839\n14  chromedriver                        0x00000001052c185a chromedriver + 4716634\n15  chromedriver                        0x0000000105293fce chromedriver + 4530126\n16  chromedriver                        0x00000001052e15c8 chromedriver + 4847048\n17  chromedriver                        0x00000001052e1747 chromedriver + 4847431\n18  chromedriver                        0x00000001052f687f chromedriver + 4933759\n19  libsystem_pthread.dylib             0x00007ff817ca5259 _pthread_start + 125\n20  libsystem_pthread.dylib             0x00007ff817ca0c7b thread_start + 15\n",
     "output_type": "error",
     "traceback": [
      "\u001b[0;31m---------------------------------------------------------------------------\u001b[0m",
      "\u001b[0;31mTimeoutException\u001b[0m                          Traceback (most recent call last)",
      "Cell \u001b[0;32mIn[135], line 30\u001b[0m\n\u001b[1;32m     27\u001b[0m dsrid \u001b[38;5;241m=\u001b[39m parsed_qs[\u001b[38;5;124m'\u001b[39m\u001b[38;5;124mdsrid\u001b[39m\u001b[38;5;124m'\u001b[39m][\u001b[38;5;241m0\u001b[39m]\n\u001b[1;32m     29\u001b[0m \u001b[38;5;66;03m# Select the \"gelesen\" checkbox\u001b[39;00m\n\u001b[0;32m---> 30\u001b[0m gelesen_checkbox \u001b[38;5;241m=\u001b[39m \u001b[43mWebDriverWait\u001b[49m\u001b[43m(\u001b[49m\u001b[43mdriver\u001b[49m\u001b[43m,\u001b[49m\u001b[43m \u001b[49m\u001b[38;5;241;43m10\u001b[39;49m\u001b[43m)\u001b[49m\u001b[38;5;241;43m.\u001b[39;49m\u001b[43muntil\u001b[49m\u001b[43m(\u001b[49m\u001b[43mEC\u001b[49m\u001b[38;5;241;43m.\u001b[39;49m\u001b[43mvisibility_of_element_located\u001b[49m\u001b[43m(\u001b[49m\u001b[43m(\u001b[49m\u001b[43mBy\u001b[49m\u001b[38;5;241;43m.\u001b[39;49m\u001b[43mNAME\u001b[49m\u001b[43m,\u001b[49m\u001b[43m \u001b[49m\u001b[38;5;124;43m\"\u001b[39;49m\u001b[38;5;124;43mgelesen\u001b[39;49m\u001b[38;5;124;43m\"\u001b[39;49m\u001b[43m)\u001b[49m\u001b[43m)\u001b[49m\u001b[43m)\u001b[49m\n\u001b[1;32m     31\u001b[0m gelesen_checkbox\u001b[38;5;241m.\u001b[39mclick()\n\u001b[1;32m     33\u001b[0m \u001b[38;5;66;03m# Click the \"Next\" button\u001b[39;00m\n",
      "File \u001b[0;32m~/Desktop/Erdem/git/berlin-termin-bucher/.env/lib/python3.10/site-packages/selenium/webdriver/support/wait.py:95\u001b[0m, in \u001b[0;36mWebDriverWait.until\u001b[0;34m(self, method, message)\u001b[0m\n\u001b[1;32m     93\u001b[0m     \u001b[38;5;28;01mif\u001b[39;00m time\u001b[38;5;241m.\u001b[39mmonotonic() \u001b[38;5;241m>\u001b[39m end_time:\n\u001b[1;32m     94\u001b[0m         \u001b[38;5;28;01mbreak\u001b[39;00m\n\u001b[0;32m---> 95\u001b[0m \u001b[38;5;28;01mraise\u001b[39;00m TimeoutException(message, screen, stacktrace)\n",
      "\u001b[0;31mTimeoutException\u001b[0m: Message: \nStacktrace:\n0   chromedriver                        0x00000001052ee428 chromedriver + 4899880\n1   chromedriver                        0x000000010526ba23 chromedriver + 4364835\n2   chromedriver                        0x0000000104eb5bf6 chromedriver + 474102\n3   chromedriver                        0x0000000104ef94f0 chromedriver + 750832\n4   chromedriver                        0x0000000104ef9751 chromedriver + 751441\n5   chromedriver                        0x0000000104f3d834 chromedriver + 1030196\n6   chromedriver                        0x0000000104f1f58d chromedriver + 906637\n7   chromedriver                        0x0000000104f3ab5b chromedriver + 1018715\n8   chromedriver                        0x0000000104f1f333 chromedriver + 906035\n9   chromedriver                        0x0000000104ee955f chromedriver + 685407\n10  chromedriver                        0x0000000104eeaa7e chromedriver + 690814\n11  chromedriver                        0x00000001052bb79e chromedriver + 4691870\n12  chromedriver                        0x00000001052c0961 chromedriver + 4712801\n13  chromedriver                        0x00000001052c72ff chromedriver + 4739839\n14  chromedriver                        0x00000001052c185a chromedriver + 4716634\n15  chromedriver                        0x0000000105293fce chromedriver + 4530126\n16  chromedriver                        0x00000001052e15c8 chromedriver + 4847048\n17  chromedriver                        0x00000001052e1747 chromedriver + 4847431\n18  chromedriver                        0x00000001052f687f chromedriver + 4933759\n19  libsystem_pthread.dylib             0x00007ff817ca5259 _pthread_start + 125\n20  libsystem_pthread.dylib             0x00007ff817ca0c7b thread_start + 15\n"
     ]
    }
   ],
   "source": [
    "import time\n",
    "from urllib.parse import urlparse, parse_qs\n",
    "from selenium import webdriver\n",
    "from selenium.webdriver.common.by import By\n",
    "from selenium.webdriver.support.ui import WebDriverWait\n",
    "from selenium.webdriver.support import expected_conditions as EC\n",
    "\n",
    "# Set up the Selenium webdriver to use Google Chrome\n",
    "driver = webdriver.Chrome()\n",
    "\n",
    "# Navigate to the website\n",
    "driver.get('https://otv.verwalt-berlin.de/ams/TerminBuchen?lang=en&termin=1&dienstleister=327437&anliegen[]=324659&herkunft=1')\n",
    "\n",
    "# Wait for the \"Book Appointment\" button to be visible\n",
    "book_appointment_button = WebDriverWait(driver, 10).until(EC.visibility_of_element_located((By.XPATH, \"//div[@class='link']/a[@href='/ams/TerminBuchen/wizardng?sprachauswahl=en']\")))\n",
    "\n",
    "# Click the \"Book Appointment\" button\n",
    "book_appointment_button.click()\n",
    "\n",
    "# Get the redirected URL with the token from the current URL\n",
    "redirected_url_with_token = driver.current_url\n",
    "\n",
    "# Extract the dswid and dsrid values from the original URL\n",
    "parsed_url = urlparse(redirected_url_with_token)\n",
    "parsed_qs = parse_qs(parsed_url.query)\n",
    "dswid = parsed_qs['dswid'][0]\n",
    "dsrid = parsed_qs['dsrid'][0]\n",
    "\n",
    "# Select the \"gelesen\" checkbox\n",
    "gelesen_checkbox = WebDriverWait(driver, 10).until(EC.visibility_of_element_located((By.NAME, \"gelesen\")))\n",
    "gelesen_checkbox.click()\n",
    "\n",
    "# Click the \"Next\" button\n",
    "next_button = driver.find_element(By.NAME, \"applicationForm:managedForm:proceed\")\n",
    "next_button.click()\n",
    "\n",
    "# Wait for the page to load after clicking the \"Next\" button\n",
    "WebDriverWait(driver, 10).until(EC.title_contains(\"AMS Berlin - Online-Terminvereinbarung\"))\n",
    "\n",
    "# Render the redirected URL\n",
    "redirected_url = driver.current_url\n",
    "\n",
    "# Close the Selenium webdriver\n",
    "driver.quit()\n",
    "\n",
    "# Print the redirected URL\n",
    "print(redirected_url)\n"
   ]
  },
  {
   "cell_type": "code",
   "execution_count": 142,
   "id": "09d2c988",
   "metadata": {},
   "outputs": [
    {
     "ename": "TimeoutException",
     "evalue": "Message: \nStacktrace:\n0   chromedriver                        0x0000000104630428 chromedriver + 4899880\n1   chromedriver                        0x00000001045ada23 chromedriver + 4364835\n2   chromedriver                        0x00000001041f7bf6 chromedriver + 474102\n3   chromedriver                        0x000000010423b4f0 chromedriver + 750832\n4   chromedriver                        0x000000010423b751 chromedriver + 751441\n5   chromedriver                        0x000000010427f834 chromedriver + 1030196\n6   chromedriver                        0x000000010426158d chromedriver + 906637\n7   chromedriver                        0x000000010427cb5b chromedriver + 1018715\n8   chromedriver                        0x0000000104261333 chromedriver + 906035\n9   chromedriver                        0x000000010422b55f chromedriver + 685407\n10  chromedriver                        0x000000010422ca7e chromedriver + 690814\n11  chromedriver                        0x00000001045fd79e chromedriver + 4691870\n12  chromedriver                        0x0000000104602961 chromedriver + 4712801\n13  chromedriver                        0x00000001046092ff chromedriver + 4739839\n14  chromedriver                        0x000000010460385a chromedriver + 4716634\n15  chromedriver                        0x00000001045d5fce chromedriver + 4530126\n16  chromedriver                        0x00000001046235c8 chromedriver + 4847048\n17  chromedriver                        0x0000000104623747 chromedriver + 4847431\n18  chromedriver                        0x000000010463887f chromedriver + 4933759\n19  libsystem_pthread.dylib             0x00007ff817ca5259 _pthread_start + 125\n20  libsystem_pthread.dylib             0x00007ff817ca0c7b thread_start + 15\n",
     "output_type": "error",
     "traceback": [
      "\u001b[0;31m---------------------------------------------------------------------------\u001b[0m",
      "\u001b[0;31mTimeoutException\u001b[0m                          Traceback (most recent call last)",
      "Cell \u001b[0;32mIn[142], line 32\u001b[0m\n\u001b[1;32m     29\u001b[0m dsrid \u001b[38;5;241m=\u001b[39m parsed_qs[\u001b[38;5;124m'\u001b[39m\u001b[38;5;124mdsrid\u001b[39m\u001b[38;5;124m'\u001b[39m][\u001b[38;5;241m0\u001b[39m]\n\u001b[1;32m     31\u001b[0m \u001b[38;5;66;03m# Select the \"gelesen\" checkbox\u001b[39;00m\n\u001b[0;32m---> 32\u001b[0m gelesen_checkbox \u001b[38;5;241m=\u001b[39m \u001b[43mWebDriverWait\u001b[49m\u001b[43m(\u001b[49m\u001b[43mdriver\u001b[49m\u001b[43m,\u001b[49m\u001b[43m \u001b[49m\u001b[38;5;241;43m10\u001b[39;49m\u001b[43m)\u001b[49m\u001b[38;5;241;43m.\u001b[39;49m\u001b[43muntil\u001b[49m\u001b[43m(\u001b[49m\u001b[43mEC\u001b[49m\u001b[38;5;241;43m.\u001b[39;49m\u001b[43mvisibility_of_element_located\u001b[49m\u001b[43m(\u001b[49m\u001b[43m(\u001b[49m\u001b[43mBy\u001b[49m\u001b[38;5;241;43m.\u001b[39;49m\u001b[43mNAME\u001b[49m\u001b[43m,\u001b[49m\u001b[43m \u001b[49m\u001b[38;5;124;43m\"\u001b[39;49m\u001b[38;5;124;43mgelesen\u001b[39;49m\u001b[38;5;124;43m\"\u001b[39;49m\u001b[43m)\u001b[49m\u001b[43m)\u001b[49m\u001b[43m)\u001b[49m\n\u001b[1;32m     33\u001b[0m gelesen_checkbox\u001b[38;5;241m.\u001b[39mclick()\n\u001b[1;32m     35\u001b[0m \u001b[38;5;66;03m# Click the \"Next\" button\u001b[39;00m\n",
      "File \u001b[0;32m~/Desktop/Erdem/git/berlin-termin-bucher/.env/lib/python3.10/site-packages/selenium/webdriver/support/wait.py:95\u001b[0m, in \u001b[0;36mWebDriverWait.until\u001b[0;34m(self, method, message)\u001b[0m\n\u001b[1;32m     93\u001b[0m     \u001b[38;5;28;01mif\u001b[39;00m time\u001b[38;5;241m.\u001b[39mmonotonic() \u001b[38;5;241m>\u001b[39m end_time:\n\u001b[1;32m     94\u001b[0m         \u001b[38;5;28;01mbreak\u001b[39;00m\n\u001b[0;32m---> 95\u001b[0m \u001b[38;5;28;01mraise\u001b[39;00m TimeoutException(message, screen, stacktrace)\n",
      "\u001b[0;31mTimeoutException\u001b[0m: Message: \nStacktrace:\n0   chromedriver                        0x0000000104630428 chromedriver + 4899880\n1   chromedriver                        0x00000001045ada23 chromedriver + 4364835\n2   chromedriver                        0x00000001041f7bf6 chromedriver + 474102\n3   chromedriver                        0x000000010423b4f0 chromedriver + 750832\n4   chromedriver                        0x000000010423b751 chromedriver + 751441\n5   chromedriver                        0x000000010427f834 chromedriver + 1030196\n6   chromedriver                        0x000000010426158d chromedriver + 906637\n7   chromedriver                        0x000000010427cb5b chromedriver + 1018715\n8   chromedriver                        0x0000000104261333 chromedriver + 906035\n9   chromedriver                        0x000000010422b55f chromedriver + 685407\n10  chromedriver                        0x000000010422ca7e chromedriver + 690814\n11  chromedriver                        0x00000001045fd79e chromedriver + 4691870\n12  chromedriver                        0x0000000104602961 chromedriver + 4712801\n13  chromedriver                        0x00000001046092ff chromedriver + 4739839\n14  chromedriver                        0x000000010460385a chromedriver + 4716634\n15  chromedriver                        0x00000001045d5fce chromedriver + 4530126\n16  chromedriver                        0x00000001046235c8 chromedriver + 4847048\n17  chromedriver                        0x0000000104623747 chromedriver + 4847431\n18  chromedriver                        0x000000010463887f chromedriver + 4933759\n19  libsystem_pthread.dylib             0x00007ff817ca5259 _pthread_start + 125\n20  libsystem_pthread.dylib             0x00007ff817ca0c7b thread_start + 15\n"
     ]
    }
   ],
   "source": [
    "import time\n",
    "from urllib.parse import urlparse, parse_qs\n",
    "from selenium import webdriver\n",
    "from selenium.webdriver.common.by import By\n",
    "from selenium.webdriver.support.ui import WebDriverWait\n",
    "from selenium.webdriver.support import expected_conditions as EC\n",
    "\n",
    "# Set up the Selenium webdriver to use Google Chrome\n",
    "options = webdriver.ChromeOptions()\n",
    "options.add_argument(\"user-agent=Mozilla/5.0 (Windows NT 10.0; Win64; x64) AppleWebKit/537.36 (KHTML, like Gecko) Chrome/58.0.3029.110 Safari/537.36\")\n",
    "driver = webdriver.Chrome(options=options)\n",
    "\n",
    "# Navigate to the website\n",
    "driver.get('https://otv.verwalt-berlin.de/ams/TerminBuchen?lang=en&termin=1&dienstleister=327437&anliegen[]=324659&herkunft=1')\n",
    "\n",
    "# Wait for the \"Book Appointment\" button to be visible\n",
    "book_appointment_button = WebDriverWait(driver, 10).until(EC.visibility_of_element_located((By.XPATH, \"//div[@class='link']/a[@href='/ams/TerminBuchen/wizardng?sprachauswahl=en']\")))\n",
    "\n",
    "# Click the \"Book Appointment\" button\n",
    "book_appointment_button.click()\n",
    "\n",
    "# Get the redirected URL with the token from the current URL\n",
    "redirected_url_with_token = driver.current_url\n",
    "\n",
    "# Extract the dswid and dsrid values from the original URL\n",
    "parsed_url = urlparse(redirected_url_with_token)\n",
    "parsed_qs = parse_qs(parsed_url.query)\n",
    "dswid = parsed_qs['dswid'][0]\n",
    "dsrid = parsed_qs['dsrid'][0]\n",
    "\n",
    "# Select the \"gelesen\" checkbox\n",
    "gelesen_checkbox = WebDriverWait(driver, 10).until(EC.visibility_of_element_located((By.NAME, \"gelesen\")))\n",
    "gelesen_checkbox.click()\n",
    "\n",
    "# Click the \"Next\" button\n",
    "next_button = driver.find_element(By.NAME, \"applicationForm:managedForm:proceed\")\n",
    "next_button.click()\n",
    "\n",
    "# Wait for the page to load after clicking the \"Next\" button\n",
    "WebDriverWait(driver, 10).until(EC.title_contains(\"AMS Berlin - Online-Terminvereinbarung\"))\n",
    "\n",
    "# Render the redirected URL\n",
    "redirected_url = driver.current_url\n",
    "\n",
    "# Close the Selenium webdriver\n",
    "driver.quit()\n",
    "\n",
    "# Print the redirected URL\n",
    "print(redirected_url)\n"
   ]
  },
  {
   "cell_type": "code",
   "execution_count": 148,
   "id": "b336f361",
   "metadata": {},
   "outputs": [
    {
     "ename": "InvalidCookieDomainException",
     "evalue": "Message: invalid cookie domain\n  (Session info: chrome=111.0.5563.64)\nStacktrace:\n0   chromedriver                        0x0000000102c7d428 chromedriver + 4899880\n1   chromedriver                        0x0000000102bfaa23 chromedriver + 4364835\n2   chromedriver                        0x0000000102844a71 chromedriver + 473713\n3   chromedriver                        0x00000001028dd98f chromedriver + 1100175\n4   chromedriver                        0x00000001028ae562 chromedriver + 906594\n5   chromedriver                        0x00000001028c9b5b chromedriver + 1018715\n6   chromedriver                        0x00000001028ae333 chromedriver + 906035\n7   chromedriver                        0x000000010287855f chromedriver + 685407\n8   chromedriver                        0x0000000102879a7e chromedriver + 690814\n9   chromedriver                        0x0000000102c4a79e chromedriver + 4691870\n10  chromedriver                        0x0000000102c4f961 chromedriver + 4712801\n11  chromedriver                        0x0000000102c562ff chromedriver + 4739839\n12  chromedriver                        0x0000000102c5085a chromedriver + 4716634\n13  chromedriver                        0x0000000102c22fce chromedriver + 4530126\n14  chromedriver                        0x0000000102c705c8 chromedriver + 4847048\n15  chromedriver                        0x0000000102c70747 chromedriver + 4847431\n16  chromedriver                        0x0000000102c8587f chromedriver + 4933759\n17  libsystem_pthread.dylib             0x00007ff817ca5259 _pthread_start + 125\n18  libsystem_pthread.dylib             0x00007ff817ca0c7b thread_start + 15\n",
     "output_type": "error",
     "traceback": [
      "\u001b[0;31m---------------------------------------------------------------------------\u001b[0m",
      "\u001b[0;31mInvalidCookieDomainException\u001b[0m              Traceback (most recent call last)",
      "Cell \u001b[0;32mIn[148], line 18\u001b[0m\n\u001b[1;32m     16\u001b[0m \u001b[38;5;66;03m# Add the cookie to the webdriver\u001b[39;00m\n\u001b[1;32m     17\u001b[0m driver \u001b[38;5;241m=\u001b[39m webdriver\u001b[38;5;241m.\u001b[39mChrome(options\u001b[38;5;241m=\u001b[39moptions)\n\u001b[0;32m---> 18\u001b[0m \u001b[43mdriver\u001b[49m\u001b[38;5;241;43m.\u001b[39;49m\u001b[43madd_cookie\u001b[49m\u001b[43m(\u001b[49m\u001b[43mcookie\u001b[49m\u001b[43m)\u001b[49m\n\u001b[1;32m     20\u001b[0m \u001b[38;5;66;03m# Navigate to the website\u001b[39;00m\n\u001b[1;32m     21\u001b[0m driver\u001b[38;5;241m.\u001b[39mget(\u001b[38;5;124m'\u001b[39m\u001b[38;5;124mhttps://otv.verwalt-berlin.de/ams/TerminBuchen?lang=en&termin=1&dienstleister=327437&anliegen[]=324659&herkunft=1\u001b[39m\u001b[38;5;124m'\u001b[39m)\n",
      "File \u001b[0;32m~/Desktop/Erdem/git/berlin-termin-bucher/.env/lib/python3.10/site-packages/selenium/webdriver/remote/webdriver.py:726\u001b[0m, in \u001b[0;36mWebDriver.add_cookie\u001b[0;34m(self, cookie_dict)\u001b[0m\n\u001b[1;32m    724\u001b[0m     \u001b[38;5;28mself\u001b[39m\u001b[38;5;241m.\u001b[39mexecute(Command\u001b[38;5;241m.\u001b[39mADD_COOKIE, {\u001b[38;5;124m\"\u001b[39m\u001b[38;5;124mcookie\u001b[39m\u001b[38;5;124m\"\u001b[39m: cookie_dict})\n\u001b[1;32m    725\u001b[0m \u001b[38;5;28;01melse\u001b[39;00m:\n\u001b[0;32m--> 726\u001b[0m     \u001b[38;5;28;43mself\u001b[39;49m\u001b[38;5;241;43m.\u001b[39;49m\u001b[43mexecute\u001b[49m\u001b[43m(\u001b[49m\u001b[43mCommand\u001b[49m\u001b[38;5;241;43m.\u001b[39;49m\u001b[43mADD_COOKIE\u001b[49m\u001b[43m,\u001b[49m\u001b[43m \u001b[49m\u001b[43m{\u001b[49m\u001b[38;5;124;43m\"\u001b[39;49m\u001b[38;5;124;43mcookie\u001b[39;49m\u001b[38;5;124;43m\"\u001b[39;49m\u001b[43m:\u001b[49m\u001b[43m \u001b[49m\u001b[43mcookie_dict\u001b[49m\u001b[43m}\u001b[49m\u001b[43m)\u001b[49m\n",
      "File \u001b[0;32m~/Desktop/Erdem/git/berlin-termin-bucher/.env/lib/python3.10/site-packages/selenium/webdriver/remote/webdriver.py:440\u001b[0m, in \u001b[0;36mWebDriver.execute\u001b[0;34m(self, driver_command, params)\u001b[0m\n\u001b[1;32m    438\u001b[0m response \u001b[38;5;241m=\u001b[39m \u001b[38;5;28mself\u001b[39m\u001b[38;5;241m.\u001b[39mcommand_executor\u001b[38;5;241m.\u001b[39mexecute(driver_command, params)\n\u001b[1;32m    439\u001b[0m \u001b[38;5;28;01mif\u001b[39;00m response:\n\u001b[0;32m--> 440\u001b[0m     \u001b[38;5;28;43mself\u001b[39;49m\u001b[38;5;241;43m.\u001b[39;49m\u001b[43merror_handler\u001b[49m\u001b[38;5;241;43m.\u001b[39;49m\u001b[43mcheck_response\u001b[49m\u001b[43m(\u001b[49m\u001b[43mresponse\u001b[49m\u001b[43m)\u001b[49m\n\u001b[1;32m    441\u001b[0m     response[\u001b[38;5;124m\"\u001b[39m\u001b[38;5;124mvalue\u001b[39m\u001b[38;5;124m\"\u001b[39m] \u001b[38;5;241m=\u001b[39m \u001b[38;5;28mself\u001b[39m\u001b[38;5;241m.\u001b[39m_unwrap_value(response\u001b[38;5;241m.\u001b[39mget(\u001b[38;5;124m\"\u001b[39m\u001b[38;5;124mvalue\u001b[39m\u001b[38;5;124m\"\u001b[39m, \u001b[38;5;28;01mNone\u001b[39;00m))\n\u001b[1;32m    442\u001b[0m     \u001b[38;5;28;01mreturn\u001b[39;00m response\n",
      "File \u001b[0;32m~/Desktop/Erdem/git/berlin-termin-bucher/.env/lib/python3.10/site-packages/selenium/webdriver/remote/errorhandler.py:245\u001b[0m, in \u001b[0;36mErrorHandler.check_response\u001b[0;34m(self, response)\u001b[0m\n\u001b[1;32m    243\u001b[0m         alert_text \u001b[38;5;241m=\u001b[39m value[\u001b[38;5;124m\"\u001b[39m\u001b[38;5;124malert\u001b[39m\u001b[38;5;124m\"\u001b[39m]\u001b[38;5;241m.\u001b[39mget(\u001b[38;5;124m\"\u001b[39m\u001b[38;5;124mtext\u001b[39m\u001b[38;5;124m\"\u001b[39m)\n\u001b[1;32m    244\u001b[0m     \u001b[38;5;28;01mraise\u001b[39;00m exception_class(message, screen, stacktrace, alert_text)  \u001b[38;5;66;03m# type: ignore[call-arg]  # mypy is not smart enough here\u001b[39;00m\n\u001b[0;32m--> 245\u001b[0m \u001b[38;5;28;01mraise\u001b[39;00m exception_class(message, screen, stacktrace)\n",
      "\u001b[0;31mInvalidCookieDomainException\u001b[0m: Message: invalid cookie domain\n  (Session info: chrome=111.0.5563.64)\nStacktrace:\n0   chromedriver                        0x0000000102c7d428 chromedriver + 4899880\n1   chromedriver                        0x0000000102bfaa23 chromedriver + 4364835\n2   chromedriver                        0x0000000102844a71 chromedriver + 473713\n3   chromedriver                        0x00000001028dd98f chromedriver + 1100175\n4   chromedriver                        0x00000001028ae562 chromedriver + 906594\n5   chromedriver                        0x00000001028c9b5b chromedriver + 1018715\n6   chromedriver                        0x00000001028ae333 chromedriver + 906035\n7   chromedriver                        0x000000010287855f chromedriver + 685407\n8   chromedriver                        0x0000000102879a7e chromedriver + 690814\n9   chromedriver                        0x0000000102c4a79e chromedriver + 4691870\n10  chromedriver                        0x0000000102c4f961 chromedriver + 4712801\n11  chromedriver                        0x0000000102c562ff chromedriver + 4739839\n12  chromedriver                        0x0000000102c5085a chromedriver + 4716634\n13  chromedriver                        0x0000000102c22fce chromedriver + 4530126\n14  chromedriver                        0x0000000102c705c8 chromedriver + 4847048\n15  chromedriver                        0x0000000102c70747 chromedriver + 4847431\n16  chromedriver                        0x0000000102c8587f chromedriver + 4933759\n17  libsystem_pthread.dylib             0x00007ff817ca5259 _pthread_start + 125\n18  libsystem_pthread.dylib             0x00007ff817ca0c7b thread_start + 15\n"
     ]
    }
   ],
   "source": [
    "from selenium.webdriver.chrome.options import Options\n",
    "from selenium import webdriver\n",
    "\n",
    "# Set up the Selenium webdriver to use Google Chrome\n",
    "options = Options()\n",
    "options.add_argument(\"user-agent=Mozilla/5.0 (Windows NT 10.0; Win64; x64) AppleWebKit/537.36 (KHTML, like Gecko) Chrome/58.0.3029.110 Safari/537.36\")\n",
    "\n",
    "# Set up a cookie for the website\n",
    "cookie = {\n",
    "    'name': 'check',\n",
    "    'value': 'valid',\n",
    "    'domain': 'https://otv.verwalt-berlin.de',\n",
    "    'path': '/ams/TerminBuchen/wizardng'\n",
    "}\n",
    "\n",
    "# Add the cookie to the webdriver\n",
    "driver = webdriver.Chrome(options=options)\n",
    "driver.add_cookie(cookie)\n",
    "\n",
    "# Navigate to the website\n",
    "driver.get('https://otv.verwalt-berlin.de/ams/TerminBuchen?lang=en&termin=1&dienstleister=327437&anliegen[]=324659&herkunft=1')\n"
   ]
  },
  {
   "cell_type": "code",
   "execution_count": null,
   "id": "de325cfe",
   "metadata": {},
   "outputs": [],
   "source": []
  },
  {
   "cell_type": "code",
   "execution_count": 116,
   "id": "4144a2c9",
   "metadata": {
    "scrolled": true
   },
   "outputs": [
    {
     "name": "stderr",
     "output_type": "stream",
     "text": [
      "/var/folders/0z/g7_2dmr93219x2whdj_v6dtc0000gq/T/ipykernel_94576/430772484.py:6: DeprecationWarning: executable_path has been deprecated, please pass in a Service object\n",
      "  driver = webdriver.Chrome(executable_path=CHROME_PATH)\n"
     ]
    }
   ],
   "source": [
    "CHROME_PATH = '~/Library/Application Support/Google/Chrome'\n",
    "wizarding_page = \"https://otv.verwalt-berlin.de/ams/TerminBuchen/wizardng\"\n",
    "buchen = \"https://otv.verwalt-berlin.de/ams/TerminBuchen/wizardng?sprachauswahl=en\"\n",
    "# main_page = \"https://otv.verwalt-berlin.de/ams/TerminBuchen?lang=en\"\n",
    "main_page = \"https://otv.verwalt-berlin.de/ams/TerminBuchen?lang=en&termin=1&dienstleister=327437&anliegen[]=324659&herkunft=1\"\n",
    "driver = webdriver.Chrome(executable_path=CHROME_PATH)\n",
    "actions = ActionChains(driver)"
   ]
  },
  {
   "cell_type": "code",
   "execution_count": 111,
   "id": "44624bb9",
   "metadata": {},
   "outputs": [],
   "source": [
    "driver.get(\"https://google.com\")\n",
    "driver.get(main_page)"
   ]
  },
  {
   "cell_type": "code",
   "execution_count": 112,
   "id": "185a752f",
   "metadata": {},
   "outputs": [
    {
     "data": {
      "text/plain": [
       "<selenium.webdriver.common.action_chains.ActionChains at 0x109ec4820>"
      ]
     },
     "execution_count": 112,
     "metadata": {},
     "output_type": "execute_result"
    }
   ],
   "source": [
    "# actions.move_by_offset(315, 190).click().perform()\n",
    "actions.move_to_element_with_offset(driver.find_element(By.LINK_TEXT, 'Book Appointment'), 2,-2)\n",
    "actions.click()"
   ]
  },
  {
   "cell_type": "code",
   "execution_count": 113,
   "id": "462a3514",
   "metadata": {},
   "outputs": [],
   "source": [
    "actions.perform()"
   ]
  },
  {
   "cell_type": "code",
   "execution_count": 114,
   "id": "d6250f48",
   "metadata": {},
   "outputs": [
    {
     "name": "stdout",
     "output_type": "stream",
     "text": [
      "{'acceptInsecureCerts': False, 'browserName': 'chrome', 'browserVersion': '111.0.5563.64', 'chrome': {'chromedriverVersion': '111.0.5563.64 (c710e93d5b63b7095afe8c2c17df34408078439d-refs/branch-heads/5563@{#995})', 'userDataDir': '/var/folders/0z/g7_2dmr93219x2whdj_v6dtc0000gq/T/.com.google.Chrome.BZCyfp'}, 'goog:chromeOptions': {'debuggerAddress': 'localhost:59871'}, 'networkConnectionEnabled': False, 'pageLoadStrategy': 'normal', 'platformName': 'mac os x', 'proxy': {}, 'setWindowRect': True, 'strictFileInteractability': False, 'timeouts': {'implicit': 0, 'pageLoad': 300000, 'script': 30000}, 'unhandledPromptBehavior': 'dismiss and notify', 'webauthn:extension:credBlob': True, 'webauthn:extension:largeBlob': True, 'webauthn:extension:minPinLength': True, 'webauthn:extension:prf': True, 'webauthn:virtualAuthenticators': True}\n"
     ]
    }
   ],
   "source": [
    "print(driver.caps)"
   ]
  },
  {
   "cell_type": "code",
   "execution_count": 115,
   "id": "db5b89ee",
   "metadata": {},
   "outputs": [
    {
     "ename": "NameError",
     "evalue": "name 'buchen' is not defined",
     "output_type": "error",
     "traceback": [
      "\u001b[0;31m---------------------------------------------------------------------------\u001b[0m",
      "\u001b[0;31mNameError\u001b[0m                                 Traceback (most recent call last)",
      "Cell \u001b[0;32mIn[115], line 1\u001b[0m\n\u001b[0;32m----> 1\u001b[0m r \u001b[38;5;241m=\u001b[39m requests\u001b[38;5;241m.\u001b[39mget(\u001b[43mbuchen\u001b[49m)\n\u001b[1;32m      2\u001b[0m \u001b[38;5;28mprint\u001b[39m(r\u001b[38;5;241m.\u001b[39mok)\n",
      "\u001b[0;31mNameError\u001b[0m: name 'buchen' is not defined"
     ]
    }
   ],
   "source": [
    "r = requests.get(buchen)\n",
    "print(r.ok)"
   ]
  },
  {
   "cell_type": "code",
   "execution_count": 90,
   "id": "f6e62b8d",
   "metadata": {},
   "outputs": [
    {
     "name": "stdout",
     "output_type": "stream",
     "text": [
      "<RequestsCookieJar[<Cookie JSESSIONID=0p__88VV9MyJz2ey240HQtkcwGyekXxOMGJosan_.frontend-1 for otv.verwalt-berlin.de/>, <Cookie SERVERID=frontend-1 for otv.verwalt-berlin.de/>, <Cookie TS018ca6c6=01d33437f90bea285f96e3a771b5738c0fd602c42a29995c754993dfbb5921817279ec32cd38e632562373d7856a5c99978edea1da for otv.verwalt-berlin.de/>, <Cookie otv_neu=ae4195b4f253580961a2cecc3a63a201 for otv.verwalt-berlin.de/>]>\n"
     ]
    }
   ],
   "source": [
    "print(r.cookies)"
   ]
  },
  {
   "cell_type": "code",
   "execution_count": 79,
   "id": "35e6fe5c",
   "metadata": {},
   "outputs": [
    {
     "name": "stdout",
     "output_type": "stream",
     "text": [
      "b'<!DOCTYPE html>\\n\\n    <html lang=\"en\"><head id=\"j_idt2\"><link type=\"text/css\" rel=\"stylesheet\" href=\"/javax.faces.resource/theme.css.xhtml?ln=primefaces-aristo\" /><script type=\"text/javascript\" src=\"/javax.faces.resource/js/vendors/modernizr.custom.13618.js.xhtml;jsessionid=Yk9GjnlPx5P0cwYqwqiUPZwgbzAc_qUK_8dheEhD.frontend-1?ln=anton&amp;v=3.2.4\"></script><script type=\"text/javascript\" src=\"/javax.faces.resource/js/vendors/mdetect.js.xhtml;jsessionid=Yk9GjnlPx5P0cwYqwqiUPZwgbzAc_qUK_8dheEhD.frontend-1?ln=anton&amp;v=3.2.4\"></script><script type=\"text/javascript\" src=\"/javax.faces.resource/jquery/jquery.js.xhtml;jsessionid=Yk9GjnlPx5P0cwYqwqiUPZwgbzAc_qUK_8dheEhD.frontend-1?ln=primefaces&amp;v=6.1\"></script><link type=\"text/css\" rel=\"stylesheet\" href=\"/javax.faces.resource/theme/project.min.css.xhtml;jsessionid=Yk9GjnlPx5P0cwYqwqiUPZwgbzAc_qUK_8dheEhD.frontend-1?ln=berlin&amp;v=3.2.4\" /><script type=\"text/javascript\" src=\"/javax.faces.resource/windowhandler.js.xhtml;jsessionid=Yk9GjnlPx5P0cwYqwqiUPZwgbzAc_qUK_8dheEhD.frontend-1?ln=deltaspike&amp;v=1.7.2\"></script><script type=\"text/javascript\" src=\"/javax.faces.resource/jsf.js.xhtml;jsessionid=Yk9GjnlPx5P0cwYqwqiUPZwgbzAc_qUK_8dheEhD.frontend-1?ln=javax.faces\"></script><link type=\"text/css\" rel=\"stylesheet\" href=\"/javax.faces.resource/components.css.xhtml;jsessionid=Yk9GjnlPx5P0cwYqwqiUPZwgbzAc_qUK_8dheEhD.frontend-1?ln=primefaces&amp;v=6.1\" /><script type=\"text/javascript\" src=\"/javax.faces.resource/core.js.xhtml;jsessionid=Yk9GjnlPx5P0cwYqwqiUPZwgbzAc_qUK_8dheEhD.frontend-1?ln=primefaces&amp;v=6.1\"></script><script type=\"text/javascript\" src=\"/javax.faces.resource/components.js.xhtml;jsessionid=Yk9GjnlPx5P0cwYqwqiUPZwgbzAc_qUK_8dheEhD.frontend-1?ln=primefaces&amp;v=6.1\"></script><script type=\"text/javascript\" src=\"/javax.faces.resource/jquery/jquery-plugins.js.xhtml;jsessionid=Yk9GjnlPx5P0cwYqwqiUPZwgbzAc_qUK_8dheEhD.frontend-1?ln=primefaces&amp;v=6.1\"></script><script type=\"text/javascript\">\\n            var ANTON = window.ANTON || {};\\n            ANTON.CORE = ANTON.CORE || {};\\n            ANTON.CORE.sessionId = \\'Yk9GjnlPx5P0cwYqwqiUPZwgbzAc_qUK_8dheEhD\\';\\n            ANTON.CORE.fcClientId = \\'1\\';\\n        </script><link type=\"text/css\" rel=\"stylesheet\" href=\"/javax.faces.resource/theme/_xima-overwrites.css.xhtml;jsessionid=Yk9GjnlPx5P0cwYqwqiUPZwgbzAc_qUK_8dheEhD.frontend-1?ln=berlin&amp;v=3.2.4\" /><script type=\"text/javascript\">if(window.PrimeFaces){PrimeFaces.settings.locale=\\'en\\';}</script>\\n        <title>book appointment \\n        </title>\\n        <meta name=\"title\" content=\"book appointment \" />\\n        <meta http-equiv=\"Content-Type\" content=\"text/html; charset=UTF-8\" />\\n        <meta name=\"client\" content=\"TerminBuchen (TerminBuchen)\" />\\n        <meta name=\"version\" content=\"b${build.number}_v3.2.4_20190902T144554_f\" />\\n        <meta name=\"viewport\" content=\"width=device-width, initial-scale=1, minimum-scale=1.0, user-scalable=yes\" />\\n        <meta name=\"msapplication-config\" content=\"none\" />\\n            <meta name=\"description\" content=\"Application Management Online\" />\\n            <meta name=\"keywords\" content=\"AntOn\" />\\n            <meta name=\"author\" content=\"]init[ AG\" />\\n            <meta name=\"copyright\" content=\"]init[ AG\" /><script type=\"text/javascript\" src=\"/javax.faces.resource/js/primefaces-locale_en.js.xhtml;jsessionid=Yk9GjnlPx5P0cwYqwqiUPZwgbzAc_qUK_8dheEhD.frontend-1?ln=anton&amp;v=3.2.4\"></script><script type=\"text/javascript\" src=\"/javax.faces.resource/js/vendors/slick.min.js.xhtml;jsessionid=Yk9GjnlPx5P0cwYqwqiUPZwgbzAc_qUK_8dheEhD.frontend-1?ln=anton&amp;v=3.2.4\"></script><script type=\"text/javascript\" src=\"/javax.faces.resource/js/vendors/jquery.qtip.min.js.xhtml;jsessionid=Yk9GjnlPx5P0cwYqwqiUPZwgbzAc_qUK_8dheEhD.frontend-1?ln=anton&amp;v=3.2.4\"></script>\\n\\n        <link rel=\"shortcut icon\" href=\"/resources/berlin/images/favicon.ico\" type=\"image/x-icon\" />\\n        <link rel=\"stylesheet\" type=\"text/css\" href=\"/ams/TerminBuchen/styles.css\" /><script type=\"text/javascript\">\\n            function supports_html5_storage() {\\n                try {\\n                    return \\'localStorage\\' in window && window[\\'localStorage\\'] !== null;\\n                } catch (e) {\\n                    return false;\\n                }\\n            }\\n            if (typeof String.prototype.startsWith != \\'function\\') {\\n                String.prototype.startsWith = function (str){\\n                    return this.slice(0, str.length) == str;\\n                };\\n            }\\n\\n            if (typeof String.prototype.endsWith != \\'function\\') {\\n                String.prototype.endsWith = function (str){\\n                    return this.slice(-str.length) == str;\\n                };\\n            }\\n        </script></head><body class=\"colModel-1 home piStart anton-all-content\">\\n        <div class=\"loading\" style=\"display:block;position:fixed;z-index:10000;top:0;left:0;height:100%;width:100%\"></div><script type=\"text/javascript\">(function(){dswh.init(\\'default\\',\\'NONE\\',10,{\\'tokenizedRedirect\\':false,\\'storeWindowTreeOnLinkClick\\':false,\\'storeWindowTreeOnButtonClick\\':false});})();</script>\\n\\n        <h1 class=\"accessibility\">book appointment\\n        </h1>\\n\\n        <div id=\"main\" class=\"clearfix\" style=\"display:none\">\\n    <div id=\"header\" class=\"clearfix\">\\n        <div class=\"logo\"><a href=\"https://otv.verwalt-berlin.de/ams/TerminBuchen\" title=\"Startseite\" target=\"_blank\"><img src=\"/binary;jsessionid=Yk9GjnlPx5P0cwYqwqiUPZwgbzAc_qUK_8dheEhD.frontend-1?id=12&amp;1661946817160\" alt=\"\" /></a>\\n        </div>\\n        <div id=\"subnavi\">\\n            <h1 class=\"hidden\">\\n                Topnavigation\\n            </h1>\\n            <ul id=\"topnavi\">\\n                    <li class=\"languageSwitch\">\\n                        <form action=\"\" method=\"get\" id=\"languageSwitchTop\">\\n                            <ul>\\n                                <li class=\"langChoice\">\\n                                        <input type=\"hidden\" name=\"termin\" value=\"1\" />\\n                                        <input type=\"hidden\" name=\"dienstleister\" value=\"327437\" />\\n                                        <input type=\"hidden\" name=\"anliegen[]\" value=\"324659\" />\\n                                        <input type=\"hidden\" name=\"herkunft\" value=\"1\" />\\n                                    <select size=\"1\" name=\"lang\" id=\"subnavi:topnavi:lang\" onchange=\"$(\\'#languageSwitchTop\\').submit()\">\\n                                                <option value=\"de\">DE</option>\\n                                                <option value=\"en\" selected=\"selected\">EN</option>\\n                                    </select>\\n                                </li>\\n                            </ul>\\n                        </form>\\n                    </li>\\n            </ul>\\n        </div>\\n        <div class=\"logo-2\"><a href=\"/ams/TerminBuchen;jsessionid=Yk9GjnlPx5P0cwYqwqiUPZwgbzAc_qUK_8dheEhD.frontend-1\" id=\"j_idt65\" title=\"Logo . Link zur Startseite\"></a>\\n        </div><div id=\"servicenavi\">\\n    <ul class=\"sm \">\\n    </ul></div><div id=\"loginPanel\" class=\"formContainer\">\\n        <script type=\"text/javascript\">\\n            function trimUsername() {\\n                $(\\'#j_username\\').val($.trim($(\\'#j_username\\').val()));\\n            }\\n        </script>\\n\\n        <form id=\"loginMain\" class=\" \" method=\"post\" action=\"https://otv.verwalt-berlin.de/j_security_check?cctxr=TerminBuchen\">\\n            <div class=\"module login cf\">\\n                <p class=\"row\">\\n                    <label for=\"j_username\">Username</label>\\n                    <input type=\"text\" id=\"j_username\" name=\"j_username\" tabindex=\"1\" onblur=\"trimUsername()\" />\\n                </p>\\n                <p class=\"row\">\\n                    <label for=\"j_password\">Password\\n                    </label><a href=\"/ams/TerminBuchen/reset;jsessionid=Yk9GjnlPx5P0cwYqwqiUPZwgbzAc_qUK_8dheEhD.frontend-1\" id=\"j_idt180:j_idt199\" class=\"linkForgotPassword\">Password forgotten?</a>\\n                    <input type=\"password\" id=\"j_password\" name=\"j_password\" tabindex=\"2\" />\\n                </p>\\n                <div class=\"row buttons\">\\n                    <button id=\"login\" class=\"button arrow-right\" value=\"Login\" name=\"Login\" type=\"submit\" tabindex=\"3\">Login</button>\\n                </div>\\n\\n                <fieldset class=\"separationLine\">\\n                    <legend>Noch kein Konto?</legend>\\n                    <div class=\"antcl_element formItemsBlock\">\\n                        <div class=\"formItemsRow\">\\n                            <div class=\"formHelpWrapper\"><a href=\"/ams/TerminBuchen/registrierung;jsessionid=Yk9GjnlPx5P0cwYqwqiUPZwgbzAc_qUK_8dheEhD.frontend-1\" id=\"j_idt180:j_idt226\" class=\"button secondary\">Register</a>\\n                            </div>\\n                        </div>\\n                    </div>\\n                </fieldset>\\n\\n                <a href=\"#\" class=\"close\" title=\"schlie\\xc3\\x9fen\"></a>\\n            </div>\\n        </form></div>\\n    </div>\\n\\n            \\n            <div class=\"clearfix antcl_content\">\\n                <h1 class=\"accessibility\">Inhalt</h1>\\n                <div id=\"cookieWarning\" class=\"notificationBox cf\" style=\"display: none\">\\n                    <ul class=\"notificationBox\">\\n                        <li class=\"warnMessage closableNotification\">\\n                            <a class=\"close\" href=\"#\" onclick=\"return ackCookieWarning();\"></a>\\n                            <p>Please activate cookies in your browser in order to use the website.</p>\\n                        </li>\\n                    </ul>\\n                </div>\\n                <div id=\"browserWarning\" class=\"notificationBox cf\" style=\"display: none\">\\n                    <ul class=\"notificationBox\">\\n                        <li class=\"warnMessage closableNotification\">\\n                            <a class=\"close\" href=\"#\" onclick=\"return ackBrowserWarning();\"></a>\\n                            <p>The browser you are using is unfortunately not supported by this website. Please update your browser version to use the website or use a different browser. The following browsers are supported:</p>\\n                            <ul>\\n                                <li style=\"padding:5px 0 5px 10px\">Desktop / PC: Internet Explorer 11, Firefox from version 39, Chrome from version 43, Safari from version 8</li>\\n                                <li style=\"padding:5px 0 5px 10px\">Mobile devices: Safari from iOS 8, Chrome / Android from version 4.1</li>\\n                            </ul>\\n                        </li>\\n                    </ul>\\n                </div>\\n\\n                <noscript>\\n                    <div class=\"notificationBox\">\\n                        <ul class=\"notificationBox\">\\n                            <li class=\"warnMessage\">\\n                                <p>Please enable JavaScript in your browser in order to use the website.</p>\\n                            </li>\\n                        </ul>\\n                    </div>\\n                </noscript>\\n                        <div id=\"messagesBox\">\\n                        </div>\\n\\n                <div class=\"contentContainer\">\\n<form id=\"mainForm\" name=\"mainForm\" method=\"post\" action=\"/ams/TerminBuchen;jsessionid=Yk9GjnlPx5P0cwYqwqiUPZwgbzAc_qUK_8dheEhD.frontend-1\" enctype=\"application/x-www-form-urlencoded\">\\n<input type=\"hidden\" name=\"mainForm\" value=\"mainForm\" />\\n\\n\\n                            <div class=\"formContainer \">\\n\\n    <div class=\"cmsContainer cmsContainer-cl- cmsContainer-pos-0\">\\n\\n    <div class=\"cmsContainer cmsContainer-slider\">\\n        <div class=\"clearThis row module genericBox\"><div class=\"big-slider\">\\n                    <div class=\"slide \" style=\"background-image: url(\\'/binary?id=8&amp;1661946817159\\')\">\\n                        <span class=\"hidden\"></span>\\n\\n                        <div class=\"slide-content\">\\n\\n                            <div class=\"div-text-content\">\\n                                <h2></h2>\\n                                <div class=\"text\"><style>\\r\\ndiv.notificationBox {\\r\\n   width: auto !important;\\r\\n    margin: 0 0px 0 0px !important;\\r\\n  padding: 0 20px 0 20px !important;\\r\\n}\\r\\n@media screen and (max-height: 900px) and (min-height: 600px){\\r\\n .coronaMaint {\\r\\n    margin-top: -180px !important;\\r\\n    margin-bottom: 180px !important;\\r\\n }\\r\\n}\\r\\n@media screen and (max-width: 321px){\\r\\n  .coronaMaint {\\r\\n    margin-top: -210px !important;\\r\\n     margin-bottom: 210px !important;\\r\\n }\\r\\n}\\r\\n</style>\\r\\n<div class=\"lang-link\">\\r\\n\\t<!-- Uncomment in case of Notification\\r\\n\\t<p class=\"coronaMaint\" style=\"margin-top: -30px\"> -->\\r\\n\\t\\t<span>Sprache \\xc3\\xa4ndern:</span>\\r\\n\\t\\t<a href=\"#\" class=\"\" target=\"_self\" onclick=\"window.location=\\'?lang=de\\';\">DE</a>\\r\\n\\t</p>\\r\\n</div> \\r\\n<!-- Set margin-top in case of Notification  \\r\\n<h4 style=\"margin-top: 30px\">-->\\r\\n<h4> \\r\\n\\t<span>Berlin Immigration Office \\xe2\\x80\\x93 Appointment agreement\\r\\n\\t</span> \\r\\n\\t<br>\\r\\n\\t<br>\\r\\n</h4>\\r\\n<div class=\"link\"> \\r\\n\\t<a href=\"/ams/TerminBuchen/wizardng?sprachauswahl=en\" class=\"button arrow-right\" target=\"_self\">Book Appointment</a>\\r\\n</div>\\r\\n<div class=\"link\"> \\r\\n\\t<a href=\"/ams/TerminAendern/wizardng?sprachauswahl=en\" class=\"button arrow-right\" target=\"_self\">Change Appointment</a>\\r\\n</div>\\r\\n</div>\\n                                    <div class=\"link\">\\n                                        <a href=\"/ams/TerminAbsagen/wizardng?sprachauswahl=en\" class=\"button arrow-right\" target=\"_self\">Delete Appointment</a>\\n                                    </div>\\n                            </div>\\n                            <div style=\"clear:both;\"></div>\\n                        </div>\\n                    </div></div>\\n        </div>\\n    </div>\\n    </div>\\n                            </div><input type=\"hidden\" name=\"javax.faces.ViewState\" id=\"j_id1:javax.faces.ViewState:0\" value=\"1754074409321468422:-3766286017737078313\" autocomplete=\"off\" />\\n</form>\\n                </div>\\n            </div>\\n\\n    <div id=\"footer\" class=\"cf\">\\n        <div id=\"anton-footer-content\">\\n            <p class=\"copyright\">Copyright \\xc2\\xa9 Landesamt f\\xc3\\xbcr Einwanderung</p>\\n            <ul class=\"menuBottom  mcnt-footer-navigation\">\\n                    <li><a href=\"https://www.berlin.de/einwanderung/ueber-uns/artikel.876115.php\" title=\"\" target=\"_blank\">\\n                        Imprint\\n                    </a>\\n                    </li>\\n                    <li><a href=\"https://www.berlin.de/einwanderung/datenschutzerklaerung.871757.php\" title=\"\" target=\"_blank\">\\n                        Data protection\\n                    </a>\\n                    </li>\\n                    <li><a href=\"https://www.berlin.de/einwanderung/en/services/appointments/\" title=\"\" target=\"_blank\">\\n                        Terms of Use\\n                    </a>\\n                    </li>\\n            </ul>\\n        </div>\\n    </div>\\n        </div><script type=\"text/javascript\">\\n            var sessionTime = 3600 * 1000; //in miliseconds\\n            var timeToShowAdditionalTimeDialog = 0 * 1000; //In Miliseconds\\n\\n            var logoutURL = \"/logout\";\\n            if (\"TerminBuchen\") {\\n                logoutURL = \"/logout?cctx=TerminBuchen\";\\n            }\\n        </script><div id=\"j_idt684\" class=\"ui-dialog ui-widget ui-widget-content ui-corner-all ui-shadow ui-hidden-container\"><div class=\"ui-dialog-titlebar ui-widget-header ui-helper-clearfix ui-corner-top\"><span id=\"j_idt684_title\" class=\"ui-dialog-title\">Warnung</span></div><div class=\"ui-dialog-content ui-widget-content\">\\n<form id=\"additionalTimeDialog\" name=\"additionalTimeDialog\" method=\"post\" action=\"/ams/TerminBuchen;jsessionid=Yk9GjnlPx5P0cwYqwqiUPZwgbzAc_qUK_8dheEhD.frontend-1\" enctype=\"application/x-www-form-urlencoded\">\\n<input type=\"hidden\" name=\"additionalTimeDialog\" value=\"additionalTimeDialog\" />\\n\\n\\n                <p>\\n                    Ihre Sitzung wird in  <span id=\"additionalTimeDialog:minuteOutput\"></span> : <span id=\"additionalTimeDialog:secondOutput\"></span> beendet. M\\xc3\\xb6chten Sie die Sitzung verl\\xc3\\xa4ngern?\\n                </p>\\n\\n                <div style=\"align-items: center\"><button id=\"additionalTimeDialog:j_idt688\" name=\"additionalTimeDialog:j_idt688\" class=\"ui-button ui-widget ui-state-default ui-corner-all ui-button-text-only button\" onclick=\"PrimeFaces.ab({s:&quot;additionalTimeDialog:j_idt688&quot;,p:&quot;additionalTimeDialog:j_idt688&quot;,u:&quot;@none&quot;,onco:function(xhr,status,args){stopCountDownTimer();PF(\\'additionalTimeDialog\\').hide();;}});return false;\" style=\"padding: 0 !important;\" type=\"submit\"><span class=\"ui-button-text ui-c\">Yes</span></button><script id=\"additionalTimeDialog:j_idt688_s\" type=\"text/javascript\">PrimeFaces.cw(\"CommandButton\",\"widget_additionalTimeDialog_j_idt688\",{id:\"additionalTimeDialog:j_idt688\"});</script><button id=\"additionalTimeDialog:j_idt689\" name=\"additionalTimeDialog:j_idt689\" class=\"ui-button ui-widget ui-state-default ui-corner-all ui-button-text-only button\" onclick=\"exit();\" style=\"padding: 0 !important;\" type=\"button\"><span class=\"ui-button-text ui-c\">No</span></button><script id=\"additionalTimeDialog:j_idt689_s\" type=\"text/javascript\">PrimeFaces.cw(\"CommandButton\",\"widget_additionalTimeDialog_j_idt689\",{id:\"additionalTimeDialog:j_idt689\"});</script>\\n            </div><input type=\"hidden\" name=\"javax.faces.ViewState\" id=\"j_id1:javax.faces.ViewState:1\" value=\"1754074409321468422:-3766286017737078313\" autocomplete=\"off\" />\\n</form></div></div><script id=\"j_idt684_s\" type=\"text/javascript\">$(function(){PrimeFaces.cw(\"Dialog\",\"additionalTimeDialog\",{id:\"j_idt684\",draggable:false,modal:true});});</script>\\n\\n        <script type=\"text/javascript\">\\n            function login() {\\n                $.post(\\'/api/remote2/login\\', {\\n                    client: \\'TerminBuchen\\',\\n                    j_username: $(\\'#overlayusername\\').val(),\\n                    j_password: $(\\'#overlaypassword\\').val()\\n                }, function (data) {\\n                    document.getElementById(\\'overlayLoginDialog:loginError\\').innerHTML = \"\";\\n                    PF(\\'overlayLoginDialog\\').hide();\\n                    $(\\'#loginLink\\').fadeOut();\\n                }).fail(function () {\\n                    PF(\\'overlayLoginDialog\\').jq.effect(\"shake\", {times: 5}, 100);\\n                    document.getElementById(\\'overlayLoginDialog:loginError\\').innerHTML = \"Login error\";\\n                });\\n            }\\n        </script><div id=\"j_idt692\" class=\"ui-dialog ui-widget ui-widget-content ui-corner-all ui-shadow ui-hidden-container\"><div class=\"ui-dialog-titlebar ui-widget-header ui-helper-clearfix ui-corner-top\"><span id=\"j_idt692_title\" class=\"ui-dialog-title\">Login</span><a href=\"#\" class=\"ui-dialog-titlebar-icon ui-dialog-titlebar-close ui-corner-all\" aria-label=\"Close\"><span class=\"ui-icon ui-icon-closethick\"></span></a></div><div class=\"ui-dialog-content ui-widget-content\">\\n<form id=\"overlayLoginDialog\" name=\"overlayLoginDialog\" method=\"post\" action=\"/ams/TerminBuchen;jsessionid=Yk9GjnlPx5P0cwYqwqiUPZwgbzAc_qUK_8dheEhD.frontend-1\" enctype=\"application/x-www-form-urlencoded\">\\n<input type=\"hidden\" name=\"overlayLoginDialog\" value=\"overlayLoginDialog\" />\\n<table cellpadding=\"5\">\\n<tfoot>\\n<tr><td colspan=\"2\">\\n                        <button onclick=\"login(); return false;\" type=\"submit\" class=\"button arrow-right\">Login\\n                        </button></td></tr>\\n</tfoot>\\n<tbody>\\n<tr>\\n<td>\\n                    <p>Login again</p>\\n                    <label for=\"overlayusername\"></td>\\n<td>Username</td>\\n</tr>\\n<tr>\\n<td>\\n                    </label>\\n                    <input type=\"text\" id=\"overlayusername\" name=\"overlayusername\" tabindex=\"1\" />\\n\\n                    <label for=\"overlaypassword\"></td>\\n<td>Password</td>\\n</tr>\\n<tr>\\n<td>\\n                    </label>\\n                    <input type=\"password\" id=\"overlaypassword\" name=\"overlaypassword\" tabindex=\"2\" /></td>\\n<td><span id=\"overlayLoginDialog:loginError\"></span></td>\\n</tr>\\n</tbody>\\n</table>\\n<input type=\"hidden\" name=\"javax.faces.ViewState\" id=\"j_id1:javax.faces.ViewState:2\" value=\"1754074409321468422:-3766286017737078313\" autocomplete=\"off\" />\\n</form></div></div><script id=\"j_idt692_s\" type=\"text/javascript\">$(function(){PrimeFaces.cw(\"Dialog\",\"overlayLoginDialog\",{id:\"j_idt692\",draggable:false,resizable:false,modal:true});});</script><div id=\"j_idt720\"></div><script id=\"j_idt720_s\" type=\"text/javascript\">$(function(){PrimeFaces.cw(\"AjaxStatus\",\"widget_j_idt720\",{id:\"j_idt720\",start:function(){PF(\\'statusDialog\\').show();},success:function(){PF(\\'statusDialog\\').hide();countDownInit();}});});</script><div id=\"j_idt721\" class=\"ui-dialog ui-widget ui-widget-content ui-corner-all ui-shadow ui-hidden-container ui-ajax-loader-container\"><div class=\"ui-dialog-content ui-widget-content\"><img id=\"j_idt722\" src=\"/javax.faces.resource/images/ajax-loader.gif.xhtml;jsessionid=Yk9GjnlPx5P0cwYqwqiUPZwgbzAc_qUK_8dheEhD.frontend-1?ln=berlin&amp;v=3.2.4\" alt=\"\" /></div></div><script id=\"j_idt721_s\" type=\"text/javascript\">$(function(){PrimeFaces.cw(\"Dialog\",\"statusDialog\",{id:\"j_idt721\",draggable:false,resizable:false,modal:true});});</script><script type=\"text/javascript\" src=\"/javax.faces.resource/js/ams-base.js.xhtml;jsessionid=Yk9GjnlPx5P0cwYqwqiUPZwgbzAc_qUK_8dheEhD.frontend-1?ln=anton&amp;v=3.2.4\"></script><script type=\"text/javascript\" src=\"/javax.faces.resource/js/anton-portal.aggr.js.xhtml;jsessionid=Yk9GjnlPx5P0cwYqwqiUPZwgbzAc_qUK_8dheEhD.frontend-1?ln=anton&amp;v=3.2.4\"></script></body>\\n    </html>'\n"
     ]
    }
   ],
   "source": [
    "r = requests.get(main_page)\n",
    "print(r.content)"
   ]
  },
  {
   "cell_type": "code",
   "execution_count": null,
   "id": "a2f419ca",
   "metadata": {},
   "outputs": [],
   "source": []
  },
  {
   "cell_type": "code",
   "execution_count": null,
   "id": "85506c7b",
   "metadata": {},
   "outputs": [],
   "source": []
  },
  {
   "cell_type": "code",
   "execution_count": 35,
   "id": "b44c02b6",
   "metadata": {},
   "outputs": [
    {
     "name": "stdout",
     "output_type": "stream",
     "text": [
      "b'<!--\\r\\n  ~ Licensed to the Apache Software Foundation (ASF) under one\\r\\n  ~ or more contributor license agreements. See the NOTICE file\\r\\n  ~ distributed with this work for additional information\\r\\n  ~ regarding copyright ownership. The ASF licenses this file\\r\\n  ~ to you under the Apache License, Version 2.0 (the\\r\\n  ~ \"License\"); you may not use this file except in compliance\\r\\n  ~ with the License. You may obtain a copy of the License at\\r\\n  ~\\r\\n  ~ http://www.apache.org/licenses/LICENSE-2.0\\r\\n  ~\\r\\n  ~ Unless required by applicable law or agreed to in writing,\\r\\n  ~ software distributed under the License is distributed on an\\r\\n  ~ \"AS IS\" BASIS, WITHOUT WARRANTIES OR CONDITIONS OF ANY\\r\\n  ~ KIND, either express or implied. See the License for the\\r\\n  ~ specific language governing permissions and limitations\\r\\n  ~ under the License.\\r\\n  -->\\r\\n\\r\\n<!DOCTYPE html PUBLIC \"-//W3C//DTD XHTML 1.0 Transitional//EN\"\\r\\n   \"http://www.w3.org/TR/xhtml1/DTD/xhtml1-transitional.dtd\">\\r\\n<html xmlns=\"http://www.w3.org/1999/xhtml\">\\r\\n    <head>\\r\\n        <title>Ladeseite...</title>\\r\\n        <meta http-equiv=\"content-type\" content=\"text/html;charset=utf-8\" />\\r\\n        <script type=\"text/javascript\" src=\"/javax.faces.resource/deltaspike/windowhandler.js.xhtml\"></script>\\r\\n        <style type=\"text/css\">\\r\\n            #message {\\r\\n                width: 350px;\\r\\n                height: 50px;\\r\\n                margin: -25px 0 0 -175px;\\r\\n                position: absolute;\\r\\n                left: 50%;\\r\\n                top: 50%;\\r\\n                font-family: arial,sans-serif;\\r\\n                font-size: 16px;\\r\\n                text-align: center;\\r\\n            }\\r\\n        </style>\\r\\n        <style type=\"text/css\">Erkl\\xef\\xbf\\xbdrung Historie</style>\\r\\n    </head>\\r\\n    <body>\\r\\n    <div id=\"loading\"></div>\\r\\n        <div id=\"message\" style=\"\">\\r\\n            Your browser does not support JavaScript.<br/>\\r\\n            Click <a href=\"?mfDirect=true\">here</a> to continue without JavaScript.\\r\\n        </div>\\r\\n\\r\\n        <script type=\"text/javascript\">\\r\\n            //<![CDATA[\\r\\n            function addCss(url) {\\r\\n                var newSS = document.createElement(\"style\");\\r\\n                newSS.setAttribute(\"rel\", \"stylesheet\");\\r\\n                newSS.setAttribute(\"type\", \"text/css\");\\r\\n                newSS.appendChild(document.createTextNode(\"@import url(\" +url + \");\"));\\r\\n                document.getElementsByTagName(\"head\")[0].appendChild(newSS);\\r\\n            }\\r\\n\\r\\n            function loadCss(clean) {\\r\\n                // We don\\'t need to restore the old css on initial requests or if < html5\\r\\n                if (!dswh.utils.isHtml5() || !window.name) {\\r\\n                    return;\\r\\n                }\\r\\n\\r\\n                var oldCss = dswh.utils.unstringify(localStorage.getItem(window.name + \\'_css\\'));\\r\\n                if (oldCss) {\\r\\n                    for (var i = 0; i < oldCss.length; i++) {\\r\\n                        addCss(oldCss[i]);\\r\\n                    }\\r\\n                    if (clean) {\\r\\n                        localStorage.removeItem(window.name + \\'_css\\');\\r\\n                    }\\r\\n                }\\r\\n            }\\r\\n\\r\\n            function replaceContent() {\\r\\n                if (document.body.textContent) {\\r\\n                    document.getElementById(\\'message\\').textContent = \"\";\\r\\n                } else {\\r\\n                    document.getElementById(\\'message\\').innerText = \"\";\\r\\n                }\\r\\n\\r\\n                // We don\\'t need to restore the old windowtree on initial requests or if < html5\\r\\n                if (!dswh.utils.isHtml5() || !window.name) {\\r\\n                    return;\\r\\n                }\\r\\n\\r\\n                loadCss(false);\\r\\n\\r\\n                var oldBody = localStorage.getItem(window.name + \\'_body\\');\\r\\n                if (oldBody) {\\r\\n                    document.body.innerHTML = oldBody;\\r\\n\\r\\n                    var attributes = dswh.utils.unstringify(localStorage.getItem(window.name + \\'_bodyAttributes\\'));\\r\\n                    for (var attributeName in attributes) {\\r\\n                        if (attributes.hasOwnProperty(attributeName)) {\\r\\n                            document.body.setAttribute(attributeName, attributes[attributeName]);\\r\\n                        }\\r\\n                    }\\r\\n\\r\\n                    window.scrollTo(localStorage.getItem(window.name + \\'_scrollLeft\\'),\\r\\n                                    localStorage.getItem(window.name + \\'_scrollTop\\'));\\r\\n\\r\\n                    localStorage.removeItem(window.name + \\'_body\\');\\r\\n                    localStorage.removeItem(window.name + \\'_bodyAttributes\\');\\r\\n                    localStorage.removeItem(window.name + \\'_scrollTop\\');\\r\\n                    localStorage.removeItem(window.name + \\'_scrollLeft\\');\\r\\n\\r\\n                    // overlay the doc with an un-clickable full-size div\\r\\n                    var overlay = document.createElement(\"div\");\\r\\n                    overlay.setAttribute(\"style\", \"cursor: wait !important; position:absolute; z-index:1000; background-color:transparent; top:0; left:0; width:100%; height: 100%; background: url(data:image/gif;base64,R0lGODlhAQABAIAAAAAAAP///yH5BAEAAAAALAAAAAABAAEAAAIBRAA7);\");\\r\\n                    overlay.setAttribute(\"class\", \"fulldiv\");\\r\\n                    document.body.appendChild(overlay);\\r\\n                }\\r\\n            }\\r\\n\\r\\n            replaceContent();\\r\\n\\r\\n            window.onload = function() {\\r\\n                if (dswh.DEBUG_MODE === true){\\r\\n                    if (!confirm(\\'reload?\\')) {\\r\\n                        return true;\\r\\n                    }\\r\\n                }\\r\\n\\r\\n                loadCss(true);\\r\\n\\r\\n                var windowId = dswh.utils.getWindowIdFromWindowName();\\r\\n\\r\\n                function requestNewWindowId() {\\r\\n                    windowId = dswh.utils.generateNewWindowId();\\r\\n                    dswh.utils.setWindowIdAsWindowName(windowId);\\r\\n                }\\r\\n\\r\\n                dswh.utils.log(\\'------- DeltaSpike windowhandler.html -------\\');\\r\\n                dswh.utils.log(\\'windowId: \\' + windowId);\\r\\n                dswh.utils.log(\\'window.name: \\' + window.name);\\r\\n\\r\\n                if (dswh.utils.isWindowNameDefined()) {\\r\\n                    if (!dswh.utils.isManagedWindowName()) {\\r\\n\\r\\n                        dswh.utils.log(\\'window name unmanaged - request new windowId\\');\\r\\n\\r\\n                        requestNewWindowId();\\r\\n                    }\\r\\n                    else {\\r\\n                        // occurs with the \"duplicate tab\" feature of chrome\\r\\n                        if (windowId === dswh.TEMP_WINDOW_NAME) {\\r\\n\\r\\n                            dswh.utils.log(\\'window name is temporary - request new windowId\\');\\r\\n\\r\\n                            requestNewWindowId();\\r\\n                        }\\r\\n                    }\\r\\n                }\\r\\n                // window name is undefined, which means that \"open in new tab/window\" was used\\r\\n                else {\\r\\n                    var newWindowId = \\'uninitializedWindowId\\';\\r\\n\\r\\n                    dswh.utils.log(\\'newWindowId \\' + newWindowId);\\r\\n\\r\\n                    if (newWindowId === \\'uninitializedWindowId\\') {\\r\\n                        dswh.utils.log(\\'windowId not initialized - request new windowId\\');\\r\\n\\r\\n                        requestNewWindowId();\\r\\n                    }\\r\\n                    else {\\r\\n                        dswh.utils.log(\\'assign window name from newWindowId\\');\\r\\n\\r\\n                        dswh.utils.setWindowIdAsWindowName(newWindowId); // set the window.name with our windowId\\r\\n                        windowId = newWindowId;\\r\\n                    }\\r\\n                }\\r\\n\\r\\n                var requestToken = dswh.utils.generateNewRequestToken();\\r\\n\\r\\n                var redirectUrl = \\'/ams/TerminBuchen/wizardng;jsessionid=_5bp8dU_0CrsofLZGKEkGOP1WCu0h4ACKsBI3JkV.frontend-1\\';\\r\\n                redirectUrl = dswh.utils.setUrlParam(redirectUrl, \"dsrid\", requestToken);\\r\\n                // we still add the windowId page param to support lazy windowId dropping for some clients\\r\\n                redirectUrl = dswh.utils.setUrlParam(redirectUrl, \"dswid\", windowId);\\r\\n\\r\\n                dswh.utils.storeCookie(\\'dsrwid-\\' + requestToken, windowId, 3);\\r\\n\\r\\n                dswh.utils.log(\\'redirect to \\' + redirectUrl);\\r\\n\\r\\n                window.location = redirectUrl;\\r\\n            };\\r\\n            //]]>\\r\\n        </script>\\r\\n    </body>\\r\\n</html>\\r\\n'\n"
     ]
    }
   ],
   "source": []
  },
  {
   "cell_type": "code",
   "execution_count": 36,
   "id": "c533be5a",
   "metadata": {},
   "outputs": [],
   "source": [
    "str_content = str(r.content)"
   ]
  },
  {
   "cell_type": "code",
   "execution_count": null,
   "id": "9e5f3175",
   "metadata": {},
   "outputs": [],
   "source": []
  },
  {
   "cell_type": "code",
   "execution_count": 37,
   "id": "2295a8fa",
   "metadata": {},
   "outputs": [],
   "source": [
    "ams_url = \"ams/TerminBuchen/wizardng;jsessionid=\"\n",
    "restoftheurl = str_content.split(ams_url)[1].split(\"\\'\")[0]"
   ]
  },
  {
   "cell_type": "code",
   "execution_count": 38,
   "id": "d1403e12",
   "metadata": {
    "scrolled": false
   },
   "outputs": [
    {
     "name": "stdout",
     "output_type": "stream",
     "text": [
      "b'<!DOCTYPE html>\\n\\n    <html lang=\"de\"><head id=\"j_idt2\"><link type=\"text/css\" rel=\"stylesheet\" href=\"/javax.faces.resource/theme.css.xhtml?ln=primefaces-aristo\" /><script type=\"text/javascript\" src=\"/javax.faces.resource/js/vendors/modernizr.custom.13618.js.xhtml;jsessionid=_5bp8dU_0CrsofLZGKEkGOP1WCu0h4ACKsBI3JkV.frontend-1?ln=anton&amp;v=3.2.4\"></script><script type=\"text/javascript\" src=\"/javax.faces.resource/js/vendors/mdetect.js.xhtml;jsessionid=_5bp8dU_0CrsofLZGKEkGOP1WCu0h4ACKsBI3JkV.frontend-1?ln=anton&amp;v=3.2.4\"></script><script type=\"text/javascript\" src=\"/javax.faces.resource/jquery/jquery.js.xhtml;jsessionid=_5bp8dU_0CrsofLZGKEkGOP1WCu0h4ACKsBI3JkV.frontend-1?ln=primefaces&amp;v=6.1\"></script><link type=\"text/css\" rel=\"stylesheet\" href=\"RES_NOT_FOUND\" /><script type=\"text/javascript\" src=\"/javax.faces.resource/windowhandler.js.xhtml;jsessionid=_5bp8dU_0CrsofLZGKEkGOP1WCu0h4ACKsBI3JkV.frontend-1?ln=deltaspike&amp;v=1.7.2\"></script><script type=\"text/javascript\" src=\"/javax.faces.resource/jsf.js.xhtml;jsessionid=_5bp8dU_0CrsofLZGKEkGOP1WCu0h4ACKsBI3JkV.frontend-1?ln=javax.faces\"></script><link type=\"text/css\" rel=\"stylesheet\" href=\"/javax.faces.resource/components.css.xhtml;jsessionid=_5bp8dU_0CrsofLZGKEkGOP1WCu0h4ACKsBI3JkV.frontend-1?ln=primefaces&amp;v=6.1\" /><script type=\"text/javascript\" src=\"/javax.faces.resource/core.js.xhtml;jsessionid=_5bp8dU_0CrsofLZGKEkGOP1WCu0h4ACKsBI3JkV.frontend-1?ln=primefaces&amp;v=6.1\"></script><script type=\"text/javascript\" src=\"/javax.faces.resource/components.js.xhtml;jsessionid=_5bp8dU_0CrsofLZGKEkGOP1WCu0h4ACKsBI3JkV.frontend-1?ln=primefaces&amp;v=6.1\"></script><script type=\"text/javascript\" src=\"/javax.faces.resource/jquery/jquery-plugins.js.xhtml;jsessionid=_5bp8dU_0CrsofLZGKEkGOP1WCu0h4ACKsBI3JkV.frontend-1?ln=primefaces&amp;v=6.1\"></script><script type=\"text/javascript\">\\n            var ANTON = window.ANTON || {};\\n            ANTON.CORE = ANTON.CORE || {};\\n            ANTON.CORE.sessionId = \\'_5bp8dU_0CrsofLZGKEkGOP1WCu0h4ACKsBI3JkV\\';\\n            ANTON.CORE.fcClientId = \\'\\';\\n        </script><link type=\"text/css\" rel=\"stylesheet\" href=\"/javax.faces.resource/theme/_xima-overwrites.css.xhtml;jsessionid=_5bp8dU_0CrsofLZGKEkGOP1WCu0h4ACKsBI3JkV.frontend-1?ln=anton&amp;v=3.2.4\" /><script type=\"text/javascript\">if(window.PrimeFaces){PrimeFaces.settings.locale=\\'de\\';}</script>\\n        <title>AntOn  - Fehler\\n        </title>\\n        <meta name=\"title\" content=\"AntOn  - Fehler\" />\\n        <meta http-equiv=\"Content-Type\" content=\"text/html; charset=UTF-8\" />\\n        <meta name=\"client\" />\\n        <meta name=\"version\" content=\"b${build.number}_v3.2.4_20190902T144554_f\" />\\n        <meta name=\"viewport\" content=\"width=device-width, initial-scale=1, minimum-scale=1.0, user-scalable=yes\" />\\n        <meta name=\"msapplication-config\" content=\"none\" />\\n            <meta name=\"description\" content=\"Antragsmanagement Online\" />\\n            <meta name=\"keywords\" content=\"AntOn\" />\\n            <meta name=\"author\" content=\"]init[ AG\" />\\n            <meta name=\"copyright\" content=\"]init[ AG\" /><script type=\"text/javascript\" src=\"/javax.faces.resource/js/primefaces-locale_de.js.xhtml;jsessionid=_5bp8dU_0CrsofLZGKEkGOP1WCu0h4ACKsBI3JkV.frontend-1?ln=anton&amp;v=3.2.4\"></script><script type=\"text/javascript\" src=\"/javax.faces.resource/js/vendors/slick.min.js.xhtml;jsessionid=_5bp8dU_0CrsofLZGKEkGOP1WCu0h4ACKsBI3JkV.frontend-1?ln=anton&amp;v=3.2.4\"></script><script type=\"text/javascript\" src=\"/javax.faces.resource/js/vendors/jquery.qtip.min.js.xhtml;jsessionid=_5bp8dU_0CrsofLZGKEkGOP1WCu0h4ACKsBI3JkV.frontend-1?ln=anton&amp;v=3.2.4\"></script>\\n\\n        <link rel=\"shortcut icon\" href=\"/resources/anton/images/favicon.ico\" type=\"image/x-icon\" /><script type=\"text/javascript\">\\n            function supports_html5_storage() {\\n                try {\\n                    return \\'localStorage\\' in window && window[\\'localStorage\\'] !== null;\\n                } catch (e) {\\n                    return false;\\n                }\\n            }\\n            if (typeof String.prototype.startsWith != \\'function\\') {\\n                String.prototype.startsWith = function (str){\\n                    return this.slice(0, str.length) == str;\\n                };\\n            }\\n\\n            if (typeof String.prototype.endsWith != \\'function\\') {\\n                String.prototype.endsWith = function (str){\\n                    return this.slice(-str.length) == str;\\n                };\\n            }\\n        </script></head><body class=\" anton-all-content\">\\n        <div class=\"loading\" style=\"display:block;position:fixed;z-index:10000;top:0;left:0;height:100%;width:100%\"></div><script type=\"text/javascript\">(function(){dswh.init(\\'default\\',\\'NONE\\',10,{\\'tokenizedRedirect\\':false,\\'storeWindowTreeOnLinkClick\\':false,\\'storeWindowTreeOnButtonClick\\':false});})();</script>\\n\\n        <h1 class=\"accessibility\">AntOn\\n        </h1>\\n\\n        <div id=\"main\" class=\"clearfix\" style=\"display:none\">\\n    <div id=\"header\" class=\"clearfix\">\\n        <div class=\"logo\"><img src=\"/javax.faces.resource/images/logo_dummy_v2.png.xhtml;jsessionid=_5bp8dU_0CrsofLZGKEkGOP1WCu0h4ACKsBI3JkV.frontend-1?ln=anton&amp;v=3.2.4\" alt=\"Antragsmanagement Logo\" />\\n        </div>\\n        <div id=\"subnavi\">\\n            <h1 class=\"hidden\">\\n                Topnavigation\\n            </h1>\\n            <ul id=\"topnavi\">\\n                    <li class=\"languageSwitch\">\\n                        <form action=\"\" method=\"get\" id=\"languageSwitchTop\">\\n                            <ul>\\n                                <li class=\"langChoice\">\\n                                    <select size=\"1\" name=\"lang\" id=\"subnavi:topnavi:lang\" onchange=\"$(\\'#languageSwitchTop\\').submit()\">\\n                                                <option value=\"de\" selected=\"selected\">DE</option>\\n                                                <option value=\"en\">EN</option>\\n                                    </select>\\n                                </li>\\n                            </ul>\\n                        </form>\\n                    </li>\\n            </ul>\\n        </div>\\n        <div class=\"logo-2\">\\n        </div>\\n    </div>\\n\\n            \\n            <div class=\"clearfix antcl_content\">\\n                <h1 class=\"accessibility\">Inhalt</h1>\\n                <div id=\"cookieWarning\" class=\"notificationBox cf\" style=\"display: none\">\\n                    <ul class=\"notificationBox\">\\n                        <li class=\"warnMessage closableNotification\">\\n                            <a class=\"close\" href=\"#\" onclick=\"return ackCookieWarning();\"></a>\\n                            <p>Bitte aktivieren Sie Cookies in Ihrem Browser, um die Webseite nutzen zu k\\xc3\\xb6nnen.</p>\\n                        </li>\\n                    </ul>\\n                </div>\\n                <div id=\"browserWarning\" class=\"notificationBox cf\" style=\"display: none\">\\n                    <ul class=\"notificationBox\">\\n                        <li class=\"warnMessage closableNotification\">\\n                            <a class=\"close\" href=\"#\" onclick=\"return ackBrowserWarning();\"></a>\\n                            <p>Der von Ihnen verwendete Browser wird von dieser Webseite leider nicht unterst\\xc3\\xbctzt. Bitte aktualisieren Sie Ihre Browserversion, um die Webseite zu benutzen oder verwenden einen anderen Browser. Folgende Browser werden unterst\\xc3\\xbctzt:</p>\\n                            <ul>\\n                                <li style=\"padding:5px 0 5px 10px\">Desktop/PC: Internet Explorer 11, Firefox ab Version 39, Chrome ab Version 43, Safari ab Version 8</li>\\n                                <li style=\"padding:5px 0 5px 10px\">Mobilger\\xc3\\xa4te: Safari ab iOS 8, Chrome/Android ab Version 4.1</li>\\n                            </ul>\\n                        </li>\\n                    </ul>\\n                </div>\\n\\n                <noscript>\\n                    <div class=\"notificationBox\">\\n                        <ul class=\"notificationBox\">\\n                            <li class=\"warnMessage\">\\n                                <p>Bitte aktivieren Sie JavaScript in Ihrem Browser, um die Webseite nutzen zu k\\xc3\\xb6nnen.</p>\\n                            </li>\\n                        </ul>\\n                    </div>\\n                </noscript>\\n                        <div id=\"messagesBox\">\\n                        </div>\\n\\n                <div class=\"contentContainer\">\\n<form id=\"mainForm\" name=\"mainForm\" method=\"post\" action=\"/ams/TerminBuchen/wizardng%5C;jsessionid=_5bp8dU_0CrsofLZGKEkGOP1WCu0h4ACKsBI3JkV.frontend-1\" enctype=\"application/x-www-form-urlencoded\">\\n<input type=\"hidden\" name=\"mainForm\" value=\"mainForm\" />\\n\\n\\n                            <div class=\"formContainer \">\\n                                    <h2>Fehler\\n                                    </h2>\\n\\t\\t\\n\\t\\t<ul class=\"messagesBox\">\\n\\t\\t\\t<li class=\"errorMessage\">Die Seite kann nicht aufgerufen werden.</li>\\n\\t\\t</ul>\\n                            </div><input type=\"hidden\" name=\"javax.faces.ViewState\" id=\"j_id1:javax.faces.ViewState:0\" value=\"950381173271763544:46080462701612695\" autocomplete=\"off\" />\\n</form>\\n                </div>\\n            </div>\\n\\n    <div id=\"footer\" class=\"cf\">\\n        <div id=\"anton-footer-content\">\\n            <p class=\"copyright\">Copyright \\xc2\\xa9 Init AG 2016. All Rights Reserved</p>\\n            <ul class=\"menuBottom  mcnt-footer-navigation\">\\n                    <li><a href=\"https://www.berlin.de/einwanderung/ueber-uns/artikel.876115.php\" title=\"\" target=\"_blank\">\\n                        Impressum\\n                    </a>\\n                    </li>\\n                    <li><a href=\"https://www.berlin.de/einwanderung/datenschutzerklaerung.871757.php\" title=\"\" target=\"_blank\">\\n                        Datenschutzerkl\\xc3\\xa4rung\\n                    </a>\\n                    </li>\\n                    <li><a href=\"https://www.berlin.de/einwanderung/termine/termin-vereinbaren/\" title=\"\" target=\"_blank\">\\n                        Nutzungsbedingungen\\n                    </a>\\n                    </li>\\n            </ul>\\n        </div>\\n    </div>\\n        </div><script type=\"text/javascript\">\\n            var sessionTime = 3600 * 1000; //in miliseconds\\n            var timeToShowAdditionalTimeDialog = 0 * 1000; //In Miliseconds\\n\\n            var logoutURL = \"/logout\";\\n            if (\"\") {\\n                logoutURL = \"/logout?cctx=\";\\n            }\\n        </script><div id=\"j_idt334\" class=\"ui-dialog ui-widget ui-widget-content ui-corner-all ui-shadow ui-hidden-container\"><div class=\"ui-dialog-titlebar ui-widget-header ui-helper-clearfix ui-corner-top\"><span id=\"j_idt334_title\" class=\"ui-dialog-title\">Warnung</span></div><div class=\"ui-dialog-content ui-widget-content\">\\n<form id=\"additionalTimeDialog\" name=\"additionalTimeDialog\" method=\"post\" action=\"/ams/TerminBuchen/wizardng%5C;jsessionid=_5bp8dU_0CrsofLZGKEkGOP1WCu0h4ACKsBI3JkV.frontend-1\" enctype=\"application/x-www-form-urlencoded\">\\n<input type=\"hidden\" name=\"additionalTimeDialog\" value=\"additionalTimeDialog\" />\\n\\n\\n                <p>\\n                    Ihre Sitzung wird in  <span id=\"additionalTimeDialog:minuteOutput\"></span> : <span id=\"additionalTimeDialog:secondOutput\"></span> beendet. M\\xc3\\xb6chten Sie die Sitzung verl\\xc3\\xa4ngern?\\n                </p>\\n\\n                <div style=\"align-items: center\"><button id=\"additionalTimeDialog:j_idt338\" name=\"additionalTimeDialog:j_idt338\" class=\"ui-button ui-widget ui-state-default ui-corner-all ui-button-text-only button\" onclick=\"PrimeFaces.ab({s:&quot;additionalTimeDialog:j_idt338&quot;,p:&quot;additionalTimeDialog:j_idt338&quot;,u:&quot;@none&quot;,onco:function(xhr,status,args){stopCountDownTimer();PF(\\'additionalTimeDialog\\').hide();;}});return false;\" style=\"padding: 0 !important;\" type=\"submit\"><span class=\"ui-button-text ui-c\">Ja</span></button><script id=\"additionalTimeDialog:j_idt338_s\" type=\"text/javascript\">PrimeFaces.cw(\"CommandButton\",\"widget_additionalTimeDialog_j_idt338\",{id:\"additionalTimeDialog:j_idt338\"});</script><button id=\"additionalTimeDialog:j_idt339\" name=\"additionalTimeDialog:j_idt339\" class=\"ui-button ui-widget ui-state-default ui-corner-all ui-button-text-only button\" onclick=\"exit();\" style=\"padding: 0 !important;\" type=\"button\"><span class=\"ui-button-text ui-c\">Nein</span></button><script id=\"additionalTimeDialog:j_idt339_s\" type=\"text/javascript\">PrimeFaces.cw(\"CommandButton\",\"widget_additionalTimeDialog_j_idt339\",{id:\"additionalTimeDialog:j_idt339\"});</script>\\n            </div><input type=\"hidden\" name=\"javax.faces.ViewState\" id=\"j_id1:javax.faces.ViewState:1\" value=\"950381173271763544:46080462701612695\" autocomplete=\"off\" />\\n</form></div></div><script id=\"j_idt334_s\" type=\"text/javascript\">$(function(){PrimeFaces.cw(\"Dialog\",\"additionalTimeDialog\",{id:\"j_idt334\",draggable:false,modal:true});});</script>\\n\\n        <script type=\"text/javascript\">\\n            function login() {\\n                $.post(\\'/api/remote2/login\\', {\\n                    client: \\'\\',\\n                    j_username: $(\\'#overlayusername\\').val(),\\n                    j_password: $(\\'#overlaypassword\\').val()\\n                }, function (data) {\\n                    document.getElementById(\\'overlayLoginDialog:loginError\\').innerHTML = \"\";\\n                    PF(\\'overlayLoginDialog\\').hide();\\n                    $(\\'#loginLink\\').fadeOut();\\n                }).fail(function () {\\n                    PF(\\'overlayLoginDialog\\').jq.effect(\"shake\", {times: 5}, 100);\\n                    document.getElementById(\\'overlayLoginDialog:loginError\\').innerHTML = \"Login error\";\\n                });\\n            }\\n        </script><div id=\"j_idt342\" class=\"ui-dialog ui-widget ui-widget-content ui-corner-all ui-shadow ui-hidden-container\"><div class=\"ui-dialog-titlebar ui-widget-header ui-helper-clearfix ui-corner-top\"><span id=\"j_idt342_title\" class=\"ui-dialog-title\">Login</span><a href=\"#\" class=\"ui-dialog-titlebar-icon ui-dialog-titlebar-close ui-corner-all\" aria-label=\"Close\"><span class=\"ui-icon ui-icon-closethick\"></span></a></div><div class=\"ui-dialog-content ui-widget-content\">\\n<form id=\"overlayLoginDialog\" name=\"overlayLoginDialog\" method=\"post\" action=\"/ams/TerminBuchen/wizardng%5C;jsessionid=_5bp8dU_0CrsofLZGKEkGOP1WCu0h4ACKsBI3JkV.frontend-1\" enctype=\"application/x-www-form-urlencoded\">\\n<input type=\"hidden\" name=\"overlayLoginDialog\" value=\"overlayLoginDialog\" />\\n<table cellpadding=\"5\">\\n<tfoot>\\n<tr><td colspan=\"2\">\\n                        <button onclick=\"login(); return false;\" type=\"submit\" class=\"button arrow-right\">Anmelden\\n                        </button></td></tr>\\n</tfoot>\\n<tbody>\\n<tr>\\n<td>\\n                    <p>Login again</p>\\n                    <label for=\"overlayusername\"></td>\\n<td>Benutzername</td>\\n</tr>\\n<tr>\\n<td>\\n                    </label>\\n                    <input type=\"text\" id=\"overlayusername\" name=\"overlayusername\" tabindex=\"1\" />\\n\\n                    <label for=\"overlaypassword\"></td>\\n<td>Passwort</td>\\n</tr>\\n<tr>\\n<td>\\n                    </label>\\n                    <input type=\"password\" id=\"overlaypassword\" name=\"overlaypassword\" tabindex=\"2\" /></td>\\n<td><span id=\"overlayLoginDialog:loginError\"></span></td>\\n</tr>\\n</tbody>\\n</table>\\n<input type=\"hidden\" name=\"javax.faces.ViewState\" id=\"j_id1:javax.faces.ViewState:2\" value=\"950381173271763544:46080462701612695\" autocomplete=\"off\" />\\n</form></div></div><script id=\"j_idt342_s\" type=\"text/javascript\">$(function(){PrimeFaces.cw(\"Dialog\",\"overlayLoginDialog\",{id:\"j_idt342\",draggable:false,resizable:false,modal:true});});</script><div id=\"j_idt370\"></div><script id=\"j_idt370_s\" type=\"text/javascript\">$(function(){PrimeFaces.cw(\"AjaxStatus\",\"widget_j_idt370\",{id:\"j_idt370\",start:function(){PF(\\'statusDialog\\').show();},success:function(){PF(\\'statusDialog\\').hide();countDownInit();}});});</script><div id=\"j_idt371\" class=\"ui-dialog ui-widget ui-widget-content ui-corner-all ui-shadow ui-hidden-container ui-ajax-loader-container\"><div class=\"ui-dialog-content ui-widget-content\"><img id=\"j_idt372\" src=\"/javax.faces.resource/images/ajax-loader.gif.xhtml;jsessionid=_5bp8dU_0CrsofLZGKEkGOP1WCu0h4ACKsBI3JkV.frontend-1?ln=anton&amp;v=3.2.4\" alt=\"\" /></div></div><script id=\"j_idt371_s\" type=\"text/javascript\">$(function(){PrimeFaces.cw(\"Dialog\",\"statusDialog\",{id:\"j_idt371\",draggable:false,resizable:false,modal:true});});</script><script type=\"text/javascript\" src=\"/javax.faces.resource/js/ams-base.js.xhtml;jsessionid=_5bp8dU_0CrsofLZGKEkGOP1WCu0h4ACKsBI3JkV.frontend-1?ln=anton&amp;v=3.2.4\"></script><script type=\"text/javascript\" src=\"/javax.faces.resource/js/anton-portal.aggr.js.xhtml;jsessionid=_5bp8dU_0CrsofLZGKEkGOP1WCu0h4ACKsBI3JkV.frontend-1?ln=anton&amp;v=3.2.4\"></script></body>\\n    </html>'\n"
     ]
    }
   ],
   "source": [
    "redirectUrl = \"https://otv.verwalt-berlin.de/\" + ams_url + restoftheurl\n",
    "r = requests.get(redirectUrl)\n",
    "print(r.content)"
   ]
  },
  {
   "cell_type": "code",
   "execution_count": null,
   "id": "5e7bf6f4",
   "metadata": {},
   "outputs": [],
   "source": []
  }
 ],
 "metadata": {
  "kernelspec": {
   "display_name": "env",
   "language": "python",
   "name": "env"
  },
  "language_info": {
   "codemirror_mode": {
    "name": "ipython",
    "version": 3
   },
   "file_extension": ".py",
   "mimetype": "text/x-python",
   "name": "python",
   "nbconvert_exporter": "python",
   "pygments_lexer": "ipython3",
   "version": "3.9.5"
  }
 },
 "nbformat": 4,
 "nbformat_minor": 5
}
